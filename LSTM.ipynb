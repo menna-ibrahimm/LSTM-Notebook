{
  "nbformat": 4,
  "nbformat_minor": 0,
  "metadata": {
    "colab": {
      "provenance": []
    },
    "kernelspec": {
      "name": "python3",
      "display_name": "Python 3"
    },
    "language_info": {
      "name": "python"
    }
  },
  "cells": [
    {
      "cell_type": "code",
      "execution_count": 33,
      "metadata": {
        "id": "dgiWN-0eAq-X"
      },
      "outputs": [],
      "source": [
        "import numpy as np"
      ]
    },
    {
      "cell_type": "code",
      "source": [
        "def sigmoid(x):\n",
        "    return 1 / (1 + np.exp(-x))"
      ],
      "metadata": {
        "id": "r4CjdMhzArym"
      },
      "execution_count": 34,
      "outputs": []
    },
    {
      "cell_type": "code",
      "source": [
        "def tanh(x):\n",
        "    return np.tanh(x)"
      ],
      "metadata": {
        "id": "jFSnvjWHAwGP"
      },
      "execution_count": 35,
      "outputs": []
    },
    {
      "cell_type": "code",
      "source": [
        "def lstm_process(sequence, parameters):\n",
        "    W_forget, W_hidden_forget, bias_forget = parameters[\"forget\"]\n",
        "    W_input, W_hidden_input, bias_input = parameters[\"input\"]\n",
        "    W_cell, W_hidden_cell, bias_cell = parameters[\"cell\"]\n",
        "    W_output, W_hidden_output, bias_output = parameters[\"output\"]\n",
        "\n",
        "    prev_hidden_state, prev_cell_state = 0, 0  # Initialize hidden and cell states\n",
        "    lstm_states = []\n",
        "\n",
        "    for time_step, input_value in enumerate(sequence, start=1):\n",
        "        # Forget gate\n",
        "        forget_gate = sigmoid(W_forget * input_value + W_hidden_forget * prev_hidden_state + bias_forget)\n",
        "\n",
        "\n",
        "        # Input gate\n",
        "        input_gate = sigmoid(W_input * input_value + W_hidden_input * prev_hidden_state + bias_input)\n",
        "\n",
        "\n",
        "        # Candidate cell state\n",
        "        cell_candidate = tanh(W_cell * input_value + W_hidden_cell * prev_hidden_state + bias_cell)\n",
        "\n",
        "\n",
        "        # Update cell state\n",
        "        cell_state = forget_gate * prev_cell_state + input_gate * cell_candidate\n",
        "\n",
        "        # Output gate\n",
        "        output_gate = sigmoid(W_output * input_value + W_hidden_output * prev_hidden_state + bias_output)\n",
        "\n",
        "\n",
        "\n",
        "        # Update hidden state\n",
        "        hidden_state = output_gate * tanh(cell_state)\n",
        "\n",
        "\n",
        "        lstm_states.append({\n",
        "            \"Forget Gate\": forget_gate, \"Input Gate\": input_gate,\n",
        "            \"Candidate Cell\": cell_candidate, \"Cell State\": cell_state,\n",
        "            \"Output Gate\": output_gate, \"Hidden State\": hidden_state\n",
        "        })\n",
        "\n",
        "        prev_hidden_state, prev_cell_state = hidden_state, cell_state  # Update states\n",
        "\n",
        "    return lstm_states, hidden_state\n"
      ],
      "metadata": {
        "id": "HjFXeeB-Ayzu"
      },
      "execution_count": 60,
      "outputs": []
    },
    {
      "cell_type": "markdown",
      "source": [
        "**LSTM parameters**"
      ],
      "metadata": {
        "id": "fsJ-lgGKg32K"
      }
    },
    {
      "cell_type": "code",
      "source": [
        "lstm_parameters = {\n",
        "    \"forget\": (0.5, 0.1, 0),\n",
        "    \"input\": (0.6, 0.2, 0),\n",
        "    \"cell\": (0.7, 0.3, 0),\n",
        "    \"output\": (0.8, 0.4, 0)\n",
        "}"
      ],
      "metadata": {
        "id": "YR7OHnYCA0SE"
      },
      "execution_count": 61,
      "outputs": []
    },
    {
      "cell_type": "markdown",
      "source": [
        "**Input sequence**"
      ],
      "metadata": {
        "id": "voTjsVrahNEy"
      }
    },
    {
      "cell_type": "code",
      "source": [
        "input_sequence = [1, 2, 3]"
      ],
      "metadata": {
        "id": "6w5A_0LVA6_F"
      },
      "execution_count": 62,
      "outputs": []
    },
    {
      "cell_type": "code",
      "source": [
        "lstm_results, last_hidden_state = lstm_process(input_sequence, lstm_parameters)"
      ],
      "metadata": {
        "id": "8LWJSksCA_H9"
      },
      "execution_count": 63,
      "outputs": []
    },
    {
      "cell_type": "markdown",
      "source": [
        "**output**"
      ],
      "metadata": {
        "id": "SGwqPZ5thdLa"
      }
    },
    {
      "cell_type": "code",
      "source": [
        "for time_step, lstm_state in enumerate(lstm_results, start=1):\n",
        "    print(f\"STEP {time_step}:\")\n",
        "    for key, value in lstm_state.items():\n",
        "        print(f\"  {key}: {value:.4f}\")\n",
        "    print()"
      ],
      "metadata": {
        "colab": {
          "base_uri": "https://localhost:8080/"
        },
        "id": "xCJp_FRwfTHb",
        "outputId": "8f2ee766-0933-4193-adeb-e092d8381253"
      },
      "execution_count": 67,
      "outputs": [
        {
          "output_type": "stream",
          "name": "stdout",
          "text": [
            "STEP 1:\n",
            "  Forget Gate: 0.6225\n",
            "  Input Gate: 0.6457\n",
            "  Candidate Cell: 0.6044\n",
            "  Cell State: 0.3902\n",
            "  Output Gate: 0.6900\n",
            "  Hidden State: 0.2564\n",
            "\n",
            "STEP 2:\n",
            "  Forget Gate: 0.7361\n",
            "  Input Gate: 0.7775\n",
            "  Candidate Cell: 0.9009\n",
            "  Cell State: 0.9877\n",
            "  Output Gate: 0.8459\n",
            "  Hidden State: 0.6398\n",
            "\n",
            "STEP 3:\n",
            "  Forget Gate: 0.8269\n",
            "  Input Gate: 0.8730\n",
            "  Candidate Cell: 0.9798\n",
            "  Cell State: 1.6721\n",
            "  Output Gate: 0.9344\n",
            "  Hidden State: 0.8707\n",
            "\n"
          ]
        }
      ]
    },
    {
      "cell_type": "markdown",
      "source": [
        "**Predict next value**"
      ],
      "metadata": {
        "id": "-WpdZjbThh8m"
      }
    },
    {
      "cell_type": "code",
      "source": [
        "predicted_value = 4 * last_hidden_state\n",
        "print(f\"Estimated Future Value: {predicted_value:.4f}\")"
      ],
      "metadata": {
        "colab": {
          "base_uri": "https://localhost:8080/"
        },
        "id": "9fxLXBHrfU80",
        "outputId": "fce33100-61a7-4acc-8f66-32af2de57cff"
      },
      "execution_count": 69,
      "outputs": [
        {
          "output_type": "stream",
          "name": "stdout",
          "text": [
            "Estimated Future Value: 3.4827\n"
          ]
        }
      ]
    },
    {
      "cell_type": "code",
      "source": [],
      "metadata": {
        "id": "seYL6av4fXCl"
      },
      "execution_count": null,
      "outputs": []
    }
  ]
}