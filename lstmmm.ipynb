{
 "cells": [
  {
   "cell_type": "code",
   "execution_count": 1,
   "id": "017dcdd0-9b72-4b21-a375-ced98a796ae6",
   "metadata": {},
   "outputs": [],
   "source": [
    "import numpy as np"
   ]
  },
  {
   "cell_type": "code",
   "execution_count": 2,
   "id": "c02a28d8-4259-431d-a930-561dfc0df027",
   "metadata": {},
   "outputs": [],
   "source": [
    "def sigmoid(x):\n",
    "    return 1 / (1 + np.exp(-x))\n",
    "def tanh(x):\n",
    "    return np.tanh(x)"
   ]
  },
  {
   "cell_type": "code",
   "execution_count": 6,
   "id": "450c6674-fb2e-4431-a4a1-5e1009b8b7d6",
   "metadata": {},
   "outputs": [],
   "source": [
    "def lstm_process(sequence, params):\n",
    "    W_f, W_hf, b_f = params[\"forget\"]\n",
    "    W_i, W_hi, b_i = params[\"input\"]\n",
    "    W_c, W_hc, b_c = params[\"cell\"]\n",
    "    W_o, W_ho, b_o = params[\"output\"]\n",
    "\n",
    "    prev_h, prev_c = 0, 0  # Initialize hidden and cell states\n",
    "    lstm_states = []\n",
    "\n",
    "    for t, x_t in enumerate(sequence, start=1):\n",
    "        # Forget gate\n",
    "        f_t = sigmoid(W_f * x_t + W_hf * prev_h + b_f)\n",
    "\n",
    "        # Input gate\n",
    "        i_t = sigmoid(W_i * x_t + W_hi * prev_h + b_i)\n",
    "\n",
    "        # Candidate cell state\n",
    "        c_tilde_t = tanh(W_c * x_t + W_hc * prev_h + b_c)\n",
    "\n",
    "        # Update cell state\n",
    "        c_t = f_t * prev_c + i_t * c_tilde_t\n",
    "\n",
    "        # Output gate\n",
    "        o_t = sigmoid(W_o * x_t + W_ho * prev_h + b_o)\n",
    "\n",
    "        # Update hidden state\n",
    "        h_t = o_t * tanh(c_t)\n",
    "\n",
    "        lstm_states.append({\n",
    "            \"Forget Gate\": f_t, \"Input Gate\": i_t,\n",
    "            \"Candidate Cell\": c_tilde_t, \"Cell State\": c_t,\n",
    "            \"Output Gate\": o_t, \"Hidden State\": h_t\n",
    "        })\n",
    "\n",
    "        prev_h, prev_c = h_t, c_t  # Update states\n",
    "\n",
    "    return lstm_states, h_t\n"
   ]
  },
  {
   "cell_type": "code",
   "execution_count": 7,
   "id": "39ea53c8-3ee6-41f4-88da-606330560e5b",
   "metadata": {},
   "outputs": [],
   "source": [
    "lstm_params = {\n",
    "    \"forget\": (0.5, 0.1, 0),\n",
    "    \"input\": (0.6, 0.2, 0),\n",
    "    \"cell\": (0.7, 0.3, 0),\n",
    "    \"output\": (0.8, 0.4, 0)\n",
    "}"
   ]
  },
  {
   "cell_type": "code",
   "execution_count": 8,
   "id": "7e0707bf-f090-42b3-8185-c829fff0f66b",
   "metadata": {},
   "outputs": [],
   "source": [
    "input_seq = [1, 2, 3]"
   ]
  },
  {
   "cell_type": "code",
   "execution_count": 9,
   "id": "39276f14-9943-4ad6-8049-5ec62affe2fe",
   "metadata": {},
   "outputs": [],
   "source": [
    "lstm_results, last_h = lstm_process(input_seq, lstm_params)"
   ]
  },
  {
   "cell_type": "code",
   "execution_count": 10,
   "id": "4ba2241c-f442-44f1-a298-84d3ab5deb7f",
   "metadata": {},
   "outputs": [
    {
     "name": "stdout",
     "output_type": "stream",
     "text": [
      "STEP 1:\n",
      "  Forget Gate: 0.6225\n",
      "  Input Gate: 0.6457\n",
      "  Candidate Cell: 0.6044\n",
      "  Cell State: 0.3902\n",
      "  Output Gate: 0.6900\n",
      "  Hidden State: 0.2564\n",
      "\n",
      "STEP 2:\n",
      "  Forget Gate: 0.7361\n",
      "  Input Gate: 0.7775\n",
      "  Candidate Cell: 0.9009\n",
      "  Cell State: 0.9877\n",
      "  Output Gate: 0.8459\n",
      "  Hidden State: 0.6398\n",
      "\n",
      "STEP 3:\n",
      "  Forget Gate: 0.8269\n",
      "  Input Gate: 0.8730\n",
      "  Candidate Cell: 0.9798\n",
      "  Cell State: 1.6721\n",
      "  Output Gate: 0.9344\n",
      "  Hidden State: 0.8707\n",
      "\n"
     ]
    }
   ],
   "source": [
    "for t, state in enumerate(lstm_results, start=1):\n",
    "    print(f\"STEP {t}:\")\n",
    "    for key, value in state.items():\n",
    "        print(f\"  {key}: {value:.4f}\")\n",
    "    print()"
   ]
  },
  {
   "cell_type": "code",
   "execution_count": 12,
   "id": "62ee3f16-700f-4320-b830-48a30b4ae00d",
   "metadata": {},
   "outputs": [
    {
     "name": "stdout",
     "output_type": "stream",
     "text": [
      "Estimated Future Value: 3.48271\n"
     ]
    }
   ],
   "source": [
    "predicted_value = 4 * last_h\n",
    "print(f\"Estimated Future Value: {predicted_value:.5f}\")"
   ]
  },
  {
   "cell_type": "code",
   "execution_count": null,
   "id": "a928e955-e601-4ed6-88c4-fc9149d3bbe3",
   "metadata": {},
   "outputs": [],
   "source": []
  },
  {
   "cell_type": "code",
   "execution_count": null,
   "id": "c80865b6-65fa-439e-afac-32b4e0e708cc",
   "metadata": {},
   "outputs": [],
   "source": []
  }
 ],
 "metadata": {
  "kernelspec": {
   "display_name": "Python 3 (ipykernel)",
   "language": "python",
   "name": "python3"
  },
  "language_info": {
   "codemirror_mode": {
    "name": "ipython",
    "version": 3
   },
   "file_extension": ".py",
   "mimetype": "text/x-python",
   "name": "python",
   "nbconvert_exporter": "python",
   "pygments_lexer": "ipython3",
   "version": "3.11.7"
  }
 },
 "nbformat": 4,
 "nbformat_minor": 5
}
